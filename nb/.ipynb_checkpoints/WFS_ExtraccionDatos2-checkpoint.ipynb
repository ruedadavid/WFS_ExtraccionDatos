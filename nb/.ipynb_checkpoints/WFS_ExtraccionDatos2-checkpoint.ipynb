{
 "cells": [
  {
   "cell_type": "markdown",
   "metadata": {},
   "source": [
    "# Servicios Web Geográficos\n",
    "Maestría Ciencias de Información y las Comunicaciones - Materia: Servicios Web Geográficos.\n",
    "\n",
    "Por: David Alonso Rueda Rodríguez - 20181395007 (daruedar@correo.udistrital.edu.co)\n",
    "\n",
    "*Tema*: Identificación de características de un WFS"
   ]
  },
  {
   "cell_type": "markdown",
   "metadata": {},
   "source": [
    "#### Objetivo de la actividad:\n",
    "\n",
    "Extraer datos de interés desde un servicio WFS alojado en servidores AWS\n",
    "\n",
    "#### Fuente de datos:\n",
    "\n",
    "Link: http://52.14.156.167:8080/geoserver/Bogota/ows?\n",
    "\n",
    "#### Temas trabajados\n",
    "\n",
    "A continuación, listado de actividades trabajadas:\n",
    "    \n",
    "##### Actividades realizadas\n",
    "\n",
    "    1  Cargar Librerías\n",
    "    2. Identificar ruta del servicio\n",
    "    3. Identificar operaciones soportadas\n",
    "    4. Contenido publicado en el servicio\n",
    "    5. Datos disponibles para consulta\n",
    "    5.1. Identificación de atributos para consulta\n",
    "    5.2. Extracción de atributos para consulta\n",
    "    5.3. Consulta de datos\n",
    "    \n",
    "#### Listado de versiones\n",
    "\n",
    "1.0.0 Preparación documento."
   ]
  },
  {
   "cell_type": "markdown",
   "metadata": {},
   "source": [
    "## 1. Cargar librerías\n",
    "\n",
    "En esta actividad se requieren las librerías:\n",
    " - OWSLib\n",
    " - Pandas"
   ]
  },
  {
   "cell_type": "code",
   "execution_count": 50,
   "metadata": {},
   "outputs": [],
   "source": [
    "# Importar librería principal\n",
    "from owslib.wfs import WebFeatureService\n",
    "import pandas as pd"
   ]
  },
  {
   "cell_type": "markdown",
   "metadata": {},
   "source": [
    "## 2. Identificar ruta de servicio\n",
    "\n",
    "Se utilizará el servicio publicado por Duván Alexander Robles."
   ]
  },
  {
   "cell_type": "code",
   "execution_count": 51,
   "metadata": {},
   "outputs": [
    {
     "name": "stdout",
     "output_type": "stream",
     "text": [
      "\\Titulo: \n",
      "\n",
      "WFS Localidades de Bogotá (Terraing_Test_UD)\n"
     ]
    }
   ],
   "source": [
    "# Definición de varible con la ruta del sitio\n",
    "sitio = 'http://52.14.156.167:8080/geoserver/Bogota/ows?'\n",
    "sitio2 = 'http://geocarto.igac.gov.co:8080/geoservicios/cien_mil/wfs?'\n",
    "# Carga del sitio\n",
    "wfs_alex = WebFeatureService(url=sitio)\n",
    "wfs_igac = WebFeatureService(url=sitio2)\n",
    "# Comprobación, obtención de nombre del servicio\n",
    "print('\\Titulo: \\n\\n{}' . format(wfs_alex.identification.title))"
   ]
  },
  {
   "cell_type": "code",
   "execution_count": 52,
   "metadata": {},
   "outputs": [
    {
     "name": "stdout",
     "output_type": "stream",
     "text": [
      "\\Titulo: \n",
      "\n",
      "None\n"
     ]
    }
   ],
   "source": [
    "# Comprobación, obtención de nombre del servicio\n",
    "print('\\Titulo: \\n\\n{}' . format(wfs_igac.identification.title))"
   ]
  },
  {
   "cell_type": "code",
   "execution_count": 53,
   "metadata": {},
   "outputs": [
    {
     "name": "stdout",
     "output_type": "stream",
     "text": [
      "\n",
      "Resumen: \n",
      "\n",
      "None\n"
     ]
    }
   ],
   "source": [
    "# Resumen sobre el servicio dispuesto\n",
    "print('\\nResumen: \\n\\n{}' . format(wfs_igac.identification.abstract))"
   ]
  },
  {
   "cell_type": "code",
   "execution_count": 54,
   "metadata": {},
   "outputs": [
    {
     "data": {
      "text/html": [
       "<div>\n",
       "<style scoped>\n",
       "    .dataframe tbody tr th:only-of-type {\n",
       "        vertical-align: middle;\n",
       "    }\n",
       "\n",
       "    .dataframe tbody tr th {\n",
       "        vertical-align: top;\n",
       "    }\n",
       "\n",
       "    .dataframe thead th {\n",
       "        text-align: right;\n",
       "    }\n",
       "</style>\n",
       "<table border=\"1\" class=\"dataframe\">\n",
       "  <thead>\n",
       "    <tr style=\"text-align: right;\">\n",
       "      <th></th>\n",
       "      <th>Datos de Identificación</th>\n",
       "    </tr>\n",
       "  </thead>\n",
       "  <tbody>\n",
       "    <tr>\n",
       "      <th>0</th>\n",
       "      <td>abstract</td>\n",
       "    </tr>\n",
       "    <tr>\n",
       "      <th>1</th>\n",
       "      <td>accessconstraints</td>\n",
       "    </tr>\n",
       "    <tr>\n",
       "      <th>2</th>\n",
       "      <td>fees</td>\n",
       "    </tr>\n",
       "    <tr>\n",
       "      <th>3</th>\n",
       "      <td>keywords</td>\n",
       "    </tr>\n",
       "    <tr>\n",
       "      <th>4</th>\n",
       "      <td>title</td>\n",
       "    </tr>\n",
       "    <tr>\n",
       "      <th>5</th>\n",
       "      <td>type</td>\n",
       "    </tr>\n",
       "    <tr>\n",
       "      <th>6</th>\n",
       "      <td>version</td>\n",
       "    </tr>\n",
       "  </tbody>\n",
       "</table>\n",
       "</div>"
      ],
      "text/plain": [
       "  Datos de Identificación\n",
       "0                abstract\n",
       "1       accessconstraints\n",
       "2                    fees\n",
       "3                keywords\n",
       "4                   title\n",
       "5                    type\n",
       "6                 version"
      ]
     },
     "execution_count": 54,
     "metadata": {},
     "output_type": "execute_result"
    }
   ],
   "source": [
    "# ¿Qué elementos están disponibles en la identificación del servicio?\n",
    "# Resumen sobre el servicio dispuesto\n",
    "Elementos_identificacion = [ident for ident in dir(wfs_igac.identification)]\n",
    "df = pd.DataFrame(Elementos_identificacion[27:34], columns=['Datos de Identificación'])\n",
    "df.sort_index()"
   ]
  },
  {
   "cell_type": "markdown",
   "metadata": {},
   "source": [
    "## 3. Operaciones Soportadas por el servicio"
   ]
  },
  {
   "cell_type": "code",
   "execution_count": 55,
   "metadata": {},
   "outputs": [
    {
     "data": {
      "text/html": [
       "<div>\n",
       "<style scoped>\n",
       "    .dataframe tbody tr th:only-of-type {\n",
       "        vertical-align: middle;\n",
       "    }\n",
       "\n",
       "    .dataframe tbody tr th {\n",
       "        vertical-align: top;\n",
       "    }\n",
       "\n",
       "    .dataframe thead th {\n",
       "        text-align: right;\n",
       "    }\n",
       "</style>\n",
       "<table border=\"1\" class=\"dataframe\">\n",
       "  <thead>\n",
       "    <tr style=\"text-align: right;\">\n",
       "      <th></th>\n",
       "      <th>Operaciones Soportadas</th>\n",
       "    </tr>\n",
       "  </thead>\n",
       "  <tbody>\n",
       "    <tr>\n",
       "      <th>0</th>\n",
       "      <td>GetCapabilities</td>\n",
       "    </tr>\n",
       "    <tr>\n",
       "      <th>1</th>\n",
       "      <td>DescribeFeatureType</td>\n",
       "    </tr>\n",
       "    <tr>\n",
       "      <th>2</th>\n",
       "      <td>GetFeature</td>\n",
       "    </tr>\n",
       "  </tbody>\n",
       "</table>\n",
       "</div>"
      ],
      "text/plain": [
       "  Operaciones Soportadas\n",
       "0        GetCapabilities\n",
       "1    DescribeFeatureType\n",
       "2             GetFeature"
      ]
     },
     "execution_count": 55,
     "metadata": {},
     "output_type": "execute_result"
    }
   ],
   "source": [
    "# ¿Qué operaciones están soportadas por el servicios WFS?\n",
    "a = [operacion.name for operacion in wfs_igac.operations]\n",
    "df = pd.DataFrame(a, columns=['Operaciones Soportadas'])\n",
    "df"
   ]
  },
  {
   "cell_type": "markdown",
   "metadata": {},
   "source": [
    "## 4. Contenido publicado en el servicio"
   ]
  },
  {
   "cell_type": "code",
   "execution_count": 56,
   "metadata": {},
   "outputs": [
    {
     "data": {
      "text/plain": [
       "['cien_mil:Administrativo_Poligono',\n",
       " 'cien_mil:Administrativo_Punto',\n",
       " 'cien_mil:Aeropuerto_Poligono',\n",
       " 'cien_mil:Aeropuerto_Punto',\n",
       " 'cien_mil:Banco_Arena',\n",
       " 'cien_mil:Bosque',\n",
       " 'cien_mil:Canal_Doble',\n",
       " 'cien_mil:Canal_Sencillo',\n",
       " 'cien_mil:Catarata',\n",
       " 'cien_mil:Central_Energia',\n",
       " 'cien_mil:Cienaga',\n",
       " 'cien_mil:Cienaga_Punto',\n",
       " 'cien_mil:Construccion_Poligono',\n",
       " 'cien_mil:Construccion_Punto',\n",
       " 'cien_mil:Costero_Insular',\n",
       " 'cien_mil:Curva_Nivel',\n",
       " 'cien_mil:Drenaje_Doble',\n",
       " 'cien_mil:Drenaje_Sencillo',\n",
       " 'cien_mil:Embalse',\n",
       " 'cien_mil:Embarcadero_Muelle',\n",
       " 'cien_mil:Hito_Limite',\n",
       " 'cien_mil:Humedal',\n",
       " 'cien_mil:IndEscala',\n",
       " 'cien_mil:Isla',\n",
       " 'cien_mil:Jaguey_Poligono',\n",
       " 'cien_mil:Jaguey_Punto',\n",
       " 'cien_mil:Laguna',\n",
       " 'cien_mil:Limite_Via',\n",
       " 'cien_mil:Linea_Costera',\n",
       " 'cien_mil:Madrevieja_Linea',\n",
       " 'cien_mil:Madrevieja_Poligono',\n",
       " 'cien_mil:Manglar',\n",
       " 'cien_mil:Mina_Poligono',\n",
       " 'cien_mil:Mina_Punto',\n",
       " 'cien_mil:Morichal',\n",
       " 'cien_mil:Nomenclatura',\n",
       " 'cien_mil:Orografia',\n",
       " 'cien_mil:Otros_Textos',\n",
       " 'cien_mil:Pantano',\n",
       " 'cien_mil:Paramento',\n",
       " 'cien_mil:Peaje',\n",
       " 'cien_mil:Pista_Aterrizaje_Linea',\n",
       " 'cien_mil:Pista_Aterrizaje_Poligono',\n",
       " 'cien_mil:Planta_Tratamiento',\n",
       " 'cien_mil:Puente_Linea',\n",
       " 'cien_mil:Puente_Punto',\n",
       " 'cien_mil:Puerto_Punto',\n",
       " 'cien_mil:Punto_Geodesico',\n",
       " 'cien_mil:Raudal_Rapido',\n",
       " 'cien_mil:Red_Alta_Tension',\n",
       " 'cien_mil:Terminal_Punto',\n",
       " 'cien_mil:Torre',\n",
       " 'cien_mil:Tuberia',\n",
       " 'cien_mil:Tunel',\n",
       " 'cien_mil:Via',\n",
       " 'cien_mil:Via_Ferrea']"
      ]
     },
     "execution_count": 56,
     "metadata": {},
     "output_type": "execute_result"
    }
   ],
   "source": [
    "# Capas publicadas en el servicio\n",
    "list(wfs_igac.contents)"
   ]
  },
  {
   "cell_type": "code",
   "execution_count": 57,
   "metadata": {},
   "outputs": [
    {
     "name": "stdout",
     "output_type": "stream",
     "text": [
      "\n",
      "Numero de capas en el servicio: 56\n"
     ]
    }
   ],
   "source": [
    "# Número de capas publicadas\n",
    "print('\\nNumero de capas en el servicio: {}' .format(len(list(wfs_igac.contents))))"
   ]
  },
  {
   "cell_type": "markdown",
   "metadata": {},
   "source": [
    "## 5. Datos disponibles para consulta\n",
    "\n",
    "Considerando que la gran ventaja que ofrece un WFS es la publicación de los datos almacenados en las capas, a continuación, se especifican las características de la capa y los datos disponibles"
   ]
  },
  {
   "cell_type": "code",
   "execution_count": 58,
   "metadata": {},
   "outputs": [
    {
     "data": {
      "text/html": [
       "<div>\n",
       "<style scoped>\n",
       "    .dataframe tbody tr th:only-of-type {\n",
       "        vertical-align: middle;\n",
       "    }\n",
       "\n",
       "    .dataframe tbody tr th {\n",
       "        vertical-align: top;\n",
       "    }\n",
       "\n",
       "    .dataframe thead th {\n",
       "        text-align: right;\n",
       "    }\n",
       "</style>\n",
       "<table border=\"1\" class=\"dataframe\">\n",
       "  <thead>\n",
       "    <tr style=\"text-align: right;\">\n",
       "      <th></th>\n",
       "      <th>Campos Disponibles</th>\n",
       "    </tr>\n",
       "  </thead>\n",
       "  <tbody>\n",
       "    <tr>\n",
       "      <th>0</th>\n",
       "      <td>abstract</td>\n",
       "    </tr>\n",
       "    <tr>\n",
       "      <th>1</th>\n",
       "      <td>boundingBox</td>\n",
       "    </tr>\n",
       "    <tr>\n",
       "      <th>2</th>\n",
       "      <td>boundingBoxWGS84</td>\n",
       "    </tr>\n",
       "    <tr>\n",
       "      <th>3</th>\n",
       "      <td>crsOptions</td>\n",
       "    </tr>\n",
       "    <tr>\n",
       "      <th>4</th>\n",
       "      <td>defaulttimeposition</td>\n",
       "    </tr>\n",
       "    <tr>\n",
       "      <th>5</th>\n",
       "      <td>get_metadata</td>\n",
       "    </tr>\n",
       "    <tr>\n",
       "      <th>6</th>\n",
       "      <td>id</td>\n",
       "    </tr>\n",
       "    <tr>\n",
       "      <th>7</th>\n",
       "      <td>keywords</td>\n",
       "    </tr>\n",
       "    <tr>\n",
       "      <th>8</th>\n",
       "      <td>metadataUrls</td>\n",
       "    </tr>\n",
       "    <tr>\n",
       "      <th>9</th>\n",
       "      <td>parse_remote_metadata</td>\n",
       "    </tr>\n",
       "    <tr>\n",
       "      <th>10</th>\n",
       "      <td>styles</td>\n",
       "    </tr>\n",
       "    <tr>\n",
       "      <th>11</th>\n",
       "      <td>timepositions</td>\n",
       "    </tr>\n",
       "    <tr>\n",
       "      <th>12</th>\n",
       "      <td>title</td>\n",
       "    </tr>\n",
       "  </tbody>\n",
       "</table>\n",
       "</div>"
      ],
      "text/plain": [
       "       Campos Disponibles\n",
       "0                abstract\n",
       "1             boundingBox\n",
       "2        boundingBoxWGS84\n",
       "3              crsOptions\n",
       "4     defaulttimeposition\n",
       "5            get_metadata\n",
       "6                      id\n",
       "7                keywords\n",
       "8            metadataUrls\n",
       "9   parse_remote_metadata\n",
       "10                 styles\n",
       "11          timepositions\n",
       "12                  title"
      ]
     },
     "execution_count": 58,
     "metadata": {},
     "output_type": "execute_result"
    }
   ],
   "source": [
    "listado_elementos = dir(wfs_igac['cien_mil:Drenaje_Doble'])\n",
    "# Extraer listado de propiedades disponibles en la capa\n",
    "df = pd.DataFrame(listado_elementos[26:39], columns=['Campos Disponibles'])\n",
    "# Presentar los datos ordenados en orden alfabético\n",
    "df.sort_index()"
   ]
  },
  {
   "cell_type": "code",
   "execution_count": 59,
   "metadata": {},
   "outputs": [
    {
     "data": {
      "text/plain": [
       "'Drenaje Doble'"
      ]
     },
     "execution_count": 59,
     "metadata": {},
     "output_type": "execute_result"
    }
   ],
   "source": [
    "wfs_igac['cien_mil:Drenaje_Doble'].title"
   ]
  },
  {
   "cell_type": "code",
   "execution_count": 60,
   "metadata": {},
   "outputs": [
    {
     "data": {
      "text/plain": [
       "(-78.99861145019531,\n",
       " -3.2104771136180905,\n",
       " -67.7567520141602,\n",
       " 12.372038840852197)"
      ]
     },
     "execution_count": 60,
     "metadata": {},
     "output_type": "execute_result"
    }
   ],
   "source": [
    "# Datos de envolvente\n",
    "wfs_igac['cien_mil:Drenaje_Doble'].boundingBox[0:4]"
   ]
  },
  {
   "cell_type": "code",
   "execution_count": 61,
   "metadata": {},
   "outputs": [
    {
     "data": {
      "text/plain": [
       "urn:ogc:def:crs:EPSG::4686"
      ]
     },
     "execution_count": 61,
     "metadata": {},
     "output_type": "execute_result"
    }
   ],
   "source": [
    "# Datos Sistema de referencia espacial\n",
    "wfs_igac['cien_mil:Drenaje_Doble'].boundingBox[4]"
   ]
  }
 ],
 "metadata": {
  "kernelspec": {
   "display_name": "Python 3",
   "language": "python",
   "name": "python3"
  },
  "language_info": {
   "codemirror_mode": {
    "name": "ipython",
    "version": 3
   },
   "file_extension": ".py",
   "mimetype": "text/x-python",
   "name": "python",
   "nbconvert_exporter": "python",
   "pygments_lexer": "ipython3",
   "version": "3.6.7"
  }
 },
 "nbformat": 4,
 "nbformat_minor": 2
}
