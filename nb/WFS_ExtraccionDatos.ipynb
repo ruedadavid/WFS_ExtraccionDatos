{
 "cells": [
  {
   "cell_type": "markdown",
   "metadata": {},
   "source": [
    "# Servicios Web Geográficos\n",
    "Maestría Ciencias de Información y las Comunicaciones - Materia: Servicios Web Geográficos.\n",
    "\n",
    "Por: David Alonso Rueda Rodríguez - 20181395007 (daruedar@correo.udistrital.edu.co)\n",
    "\n",
    "*Tema*: Identificación de características de un WFS"
   ]
  },
  {
   "cell_type": "markdown",
   "metadata": {},
   "source": [
    "#### Objetivo de la actividad:\n",
    "\n",
    "Extraer datos de interés desde un servicio WFS alojado en servidores AWS\n",
    "\n",
    "#### Fuente de datos:\n",
    "\n",
    "Link: http://52.14.156.167:8080/geoserver/web/\n",
    "\n",
    "#### Temas trabajados\n",
    "\n",
    "A continuación, listado de actividades trabajadas:\n",
    "    \n",
    "##### Actividades realizadas\n",
    "\n",
    "    1  Cargar Librerías\n",
    "    2. Identificar ruta del servicio\n",
    "    3. Identificar operaciones soportadas\n",
    "    \n",
    "#### Listado de versiones\n",
    "\n",
    "1.0.0 Preparación documento."
   ]
  },
  {
   "cell_type": "code",
   "execution_count": null,
   "metadata": {},
   "outputs": [],
   "source": [
    "# Importar librería principal\n",
    "from owslib.wfs import WebfeatureService\n",
    "import pandas as pd"
   ]
  }
 ],
 "metadata": {
  "kernelspec": {
   "display_name": "Python 3",
   "language": "python",
   "name": "python3"
  },
  "language_info": {
   "codemirror_mode": {
    "name": "ipython",
    "version": 3
   },
   "file_extension": ".py",
   "mimetype": "text/x-python",
   "name": "python",
   "nbconvert_exporter": "python",
   "pygments_lexer": "ipython3",
   "version": "3.6.7"
  }
 },
 "nbformat": 4,
 "nbformat_minor": 2
}
